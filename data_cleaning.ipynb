{
 "cells": [
  {
   "cell_type": "code",
   "execution_count": null,
   "id": "eaee0908",
   "metadata": {},
   "outputs": [],
   "source": [
    "!pip install pyarrow"
   ]
  },
  {
   "cell_type": "code",
   "execution_count": null,
   "id": "da716406",
   "metadata": {},
   "outputs": [],
   "source": [
    "import pandas as pd\n",
    "import numpy as np  \n",
    "import matplotlib.pyplot as plt  \n",
    "import seaborn as sns\n",
    "import datetime as timedelta"
   ]
  },
  {
   "cell_type": "code",
   "execution_count": null,
   "id": "b39efa3c",
   "metadata": {},
   "outputs": [],
   "source": [
    "df=pd.read_parquet(r\"C:\\Amex_Round2\\data\\amex_offers_data.parquet\")\n",
    "df.head()"
   ]
  },
  {
   "cell_type": "code",
   "execution_count": null,
   "id": "b75c360b",
   "metadata": {},
   "outputs": [],
   "source": [
    "print(\"Shape of the dataset: \", df.shape)\n",
    " \n",
    "print(df.info())\n",
    "\n",
    "print(df.isnull().sum())\n",
    "\n",
    "for col in df.columns:\n",
    "    print(f\"{col}: {df[col].nunique()} unique values\")"
   ]
  },
  {
   "cell_type": "markdown",
   "id": "a6bd37dd",
   "metadata": {},
   "source": [
    "Removal of Duplicates"
   ]
  },
  {
   "cell_type": "code",
   "execution_count": null,
   "id": "c489dfef",
   "metadata": {},
   "outputs": [],
   "source": [
    "\n",
    "#Sort by customer_id, offer_id, and event_ts \n",
    "df['event_ts']=pd.to_datetime(df['event_ts'], errors='coerce')\n",
    "\n",
    "#Keep the latest record\n",
    "df=df.sort_values(['customer_id', 'offer_id', 'event_ts'], ascending=[True, True, False])\n",
    "df=df.drop_duplicates(subset=['customer_id', 'offer_id'], keep='first')\n"
   ]
  },
  {
   "cell_type": "markdown",
   "id": "20b74575",
   "metadata": {},
   "source": [
    "Data Type Correction"
   ]
  },
  {
   "cell_type": "code",
   "execution_count": null,
   "id": "21f775b0",
   "metadata": {},
   "outputs": [],
   "source": [
    "#Convert event_dt to datetime (MM pehle)\n",
    "df['event_dt'] = pd.to_datetime(df['event_dt'], errors='coerce', dayfirst=True)\n",
    "\n",
    "#Convert to float\n",
    "numerical_columns = [col for col in df.columns if col.startswith('var_')]\n",
    "\n",
    "for col in numerical_columns:\n",
    "    df[col]=pd.to_numeric(df[col], errors='coerce')\n",
    "\n",
    "print(df.dtypes)"
   ]
  },
  {
   "cell_type": "markdown",
   "id": "526adece",
   "metadata": {},
   "source": [
    "Removing out of bound values"
   ]
  },
  {
   "cell_type": "code",
   "execution_count": null,
   "id": "8ebe5753",
   "metadata": {},
   "outputs": [],
   "source": [
    "#probability bw 0 and 1\n",
    "probability_columns = ['var_41', 'var_42']\n",
    "\n",
    "for col in probability_columns:\n",
    "    df=df[(df[col] >= 0) & (df[col] <= 1)]\n"
   ]
  },
  {
   "cell_type": "code",
   "execution_count": null,
   "id": "1ef4a345",
   "metadata": {},
   "outputs": [],
   "source": [
    "#boolean columns\n",
    "bool_columns = ['offer_action', 'var_44', 'var_45', 'var_46', 'var_47', 'var_48', 'var_49', 'var_50']\n",
    "\n",
    "#convert true false to 1 and 0 respectively\n",
    "for col in bool_columns:\n",
    "    df[col]=df[col].replace({True: 1, False: 0})\n"
   ]
  },
  {
   "cell_type": "code",
   "execution_count": null,
   "id": "9c797c14",
   "metadata": {},
   "outputs": [],
   "source": [
    "#rows with missing values deleted\n",
    "df = df.dropna(subset=['customer_id', 'offer_id', 'event_ts', 'event_dt'])\n",
    "\n",
    "#index reset\n",
    "df = df.reset_index(drop=True)"
   ]
  },
  {
   "cell_type": "code",
   "execution_count": null,
   "id": "b04c35a6",
   "metadata": {},
   "outputs": [],
   "source": [
    "df.to_csv(r'../data/cleaned_amex_data.csv', index=False)\n",
    "\n"
   ]
  }
 ],
 "metadata": {
  "kernelspec": {
   "display_name": "tf",
   "language": "python",
   "name": "python3"
  },
  "language_info": {
   "codemirror_mode": {
    "name": "ipython",
    "version": 3
   },
   "file_extension": ".py",
   "mimetype": "text/x-python",
   "name": "python",
   "nbconvert_exporter": "python",
   "pygments_lexer": "ipython3",
   "version": "3.9.21"
  }
 },
 "nbformat": 4,
 "nbformat_minor": 5
}
